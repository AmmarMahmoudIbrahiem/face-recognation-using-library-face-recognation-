{
 "cells": [
  {
   "cell_type": "code",
   "execution_count": 1,
   "id": "3ea80cf3",
   "metadata": {},
   "outputs": [],
   "source": [
    "import face_recognition\n",
    "from PIL import Image, ImageDraw\n",
    "import numpy as np"
   ]
  },
  {
   "cell_type": "code",
   "execution_count": 3,
   "id": "2cb9cb8d",
   "metadata": {},
   "outputs": [],
   "source": [
    "imgelon_bgr = face_recognition.load_image_file(r'D:\\face detection\\known\\download.jfif')\n",
    "imgelon_bgr_encoding = face_recognition.face_encodings(imgelon_bgr)[0]\n",
    "\n",
    "mo_salah = face_recognition.load_image_file(r'D:\\face detection\\known\\download (2).jfif')\n",
    "mo_salah_encoding = face_recognition.face_encodings(mo_salah)[0]\n",
    "\n",
    "barakate_image = face_recognition.load_image_file(r'D:\\face detection\\known\\download (3).jfif')\n",
    "barakate_image_encoding = face_recognition.face_encodings(barakate_image)[0]\n",
    "\n",
    "known_face_encodings=[imgelon_bgr_encoding ,mo_salah_encoding,barakate_image_encoding ]\n",
    "known_faces_names=[\"abou treak\", \"mo salah\", \"barakate\"]\n",
    "\n"
   ]
  },
  {
   "cell_type": "code",
   "execution_count": 6,
   "id": "94a84dfa",
   "metadata": {},
   "outputs": [],
   "source": [
    "unknown_image = face_recognition.load_image_file(r'D:\\face detection\\unknown\\download (2).jfif')\n",
    "\n",
    "\n",
    "face_locations = face_recognition.face_locations(unknown_image)\n",
    "face_encodings = face_recognition.face_encodings(unknown_image, face_locations)"
   ]
  },
  {
   "cell_type": "code",
   "execution_count": 7,
   "id": "45477050",
   "metadata": {},
   "outputs": [],
   "source": [
    "pil_image = Image.fromarray(unknown_image)\n",
    "draw = ImageDraw.Draw(pil_image)\n",
    "for (top, right, bottom, left), face_encoding in zip(face_locations, face_encodings):\n",
    "    matches = face_recognition.compare_faces(known_face_encodings, face_encoding)\n",
    "    name = \"unknown\"\n",
    "\n",
    "    face_distance = face_recognition.face_distance(known_face_encodings, face_encoding)\n",
    "    best_match_index = np.argmin(face_distance)\n",
    "\n",
    "    if matches[best_match_index]:\n",
    "        name = known_faces_names[best_match_index]\n",
    "\n",
    "    draw.rectangle(((left, top), (right, bottom)), outline=(0, 0, 255))\n",
    "\n",
    "    text_width, text_height = draw.textsize(name)\n",
    "    draw.rectangle(((left, bottom - text_height - 10),\n",
    "                   (right, bottom)), fill=(0, 0, 255), outline=(0, 0, 255))\n",
    "    draw.text((left + 6, bottom - text_height - 5),\n",
    "              name, fill=(255, 255, 255, 255))\n",
    "del draw\n",
    "\n",
    "pil_image.show()"
   ]
  },
  {
   "cell_type": "code",
   "execution_count": null,
   "id": "a97928ef",
   "metadata": {},
   "outputs": [],
   "source": []
  },
  {
   "cell_type": "code",
   "execution_count": null,
   "id": "dad8a48d",
   "metadata": {},
   "outputs": [],
   "source": []
  },
  {
   "cell_type": "code",
   "execution_count": null,
   "id": "76d0d7f6",
   "metadata": {},
   "outputs": [],
   "source": []
  },
  {
   "cell_type": "code",
   "execution_count": null,
   "id": "7af74a79",
   "metadata": {},
   "outputs": [],
   "source": []
  },
  {
   "cell_type": "code",
   "execution_count": null,
   "id": "35d1afa0",
   "metadata": {},
   "outputs": [],
   "source": []
  },
  {
   "cell_type": "code",
   "execution_count": null,
   "id": "a1f42c30",
   "metadata": {},
   "outputs": [],
   "source": []
  },
  {
   "cell_type": "code",
   "execution_count": null,
   "id": "7ef8b137",
   "metadata": {},
   "outputs": [],
   "source": []
  }
 ],
 "metadata": {
  "kernelspec": {
   "display_name": "Python 3 (ipykernel)",
   "language": "python",
   "name": "python3"
  },
  "language_info": {
   "codemirror_mode": {
    "name": "ipython",
    "version": 3
   },
   "file_extension": ".py",
   "mimetype": "text/x-python",
   "name": "python",
   "nbconvert_exporter": "python",
   "pygments_lexer": "ipython3",
   "version": "3.9.7"
  }
 },
 "nbformat": 4,
 "nbformat_minor": 5
}
